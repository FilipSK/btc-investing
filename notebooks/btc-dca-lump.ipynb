{
 "cells": [
  {
   "cell_type": "markdown",
   "source": [
    "---\n",
    "title: \"Comparing Bitcoin investment strategies\"\n",
    "date: 2019-10-16T15:43:14+02:00\n",
    "draft: false\n",
    "math: false\n",
    "image:\n",
    "  placement: 0\n",
    "  caption: 'Image credit: [**Chris Liverani**](https://unsplash.com/photos/dBI_My696Rk)'\n",
    "summary: Aim of this article is to evaluate two different strategies of investing FIAT currency into Bitcoin, and calculate their performance based on historic movement of Bitcoin/USD exchange rate.\n",
    "---"
   ],
   "metadata": {
    "collapsed": false,
    "pycharm": {
     "name": "#%% md\n"
    }
   }
  },
  {
   "cell_type": "markdown",
   "metadata": {},
   "source": [
    "## Disclaimer\n",
    "\n",
    "First and foremost, it must be said (once again) that **past performance is not indicative of future results**. This article is about evaluating and understanding performance of strategies from an arbitrary point of time in the past until today. Basing your financial decisions solely on this source would be, at best, irresponsible. If you are just looking to get rich quick, buying lottery tickets may be more effective and yield more predictive result than trying to understand Bitcoin.\n",
    "\n",
    "That being said, we can now continue with our research. Strap in and enjoy :)\n",
    "\n",
    "## Introduction\n",
    "\n",
    "Every time price of BTC goes up, there is an influx of new users who ask for investment advice, and you can be sure that the debate over Lump Sum or Dollar Cost Averaging pops up.  There are many sources claiming Lump Sum is a better investment strategy ([Vanguard](https://static.twentyoverten.com/5980d16bbfb1c93238ad9c24/rJpQmY8o7/Dollar-Cost-Averaging-Just-Means-Taking-Risk-Later-Vanguard.pdf) or [Leggio, Lien](https://link.springer.com/article/10.1007/BF02827219) ) but all of this research is done based on traditional assets (SPY or similar). \n",
    "\n",
    "Outside of these studies, there are also many believers in one or other strategy, that will push it without any data to back it up. Worse, sometimes they pick precisely the data that matches their result (buying at the extremes). When evaluating any investment strategy, it is important to look at the strategy overall and not at a particular point of time, which may never happen again.\n",
    "\n",
    "What we can do objectively, is to remove emotions from the game by looking at raw numbers. This article will primarily concentrate on this aspect of investing and decision making.\n",
    "\n",
    "### Mentions\n",
    "While browsing through possibilities on how to realize this project, I came upon [a study that does exactly what I needed](https://github.com/Elucidation/lumpsum_vs_dca), but is based on S&P 500 index. This work sparked my interest and showed me how to properly evaluate and publish the data for Bitcoin. What follows is heavily based on this original. Same as the original, this work is published under the Apache 2.0 license. You can inspect and reuse [the source code on Github]()\n",
    "\n",
    "### TL;DR\n",
    "We created a simple trial comparing lump sum to the strategy of investing in the same amount monthly over a year, and found that lump sum still won ~67.9% of the time. Even the arbitrarily reduced dataset (post $100 per BTC era) showed that Lump Sum beats DCA 60.8% of time, and provides double the gains on average.\n",
    "\n",
    "\n",
    "## Definition of our problem\n",
    "\n",
    "Aim of this article is to evaluate two different strategies of investing FIAT currency into Bitcoin, and calculate their performance based on historical movement of Bitcoin/USD exchange rate.\n",
    "\n",
    "Let's imagine we have $10,000 to invest any time in the last 9 years, from 2010-07-19 to 2019-10-11. We want to choose the time and strategy that would have returned us the most money today. The two strategies I chose are:\n",
    "\n",
    "1. **Lump Sum**, we invest our available funds all at one\n",
    "2. **Dollar cost average (DCA)**, we divide our available funds into 12 equal portions, and invest them every month starting from the chosen date.\n",
    "\n",
    "## Assumptions\n",
    "Throughout the study we will work with following assumptions\n",
    "\n",
    "1. We concentrate on Bitcoin only. We do not take any forks or derivate products into account. (this has minimal effects on our study.)\n",
    "2. At any point in time, we have $10,000 to invest as a Lump Sum. \n",
    "3. We do not take price of money, opportunity costs or inflation into account. (This would marginally favor Lump Sum)\n",
    "4. Our investment value is based on the closing price of any given period.\n",
    "5. We do not take any commissions or transaction related fees into account. (This would marginally favor Lump Sum)\n",
    "6. We omit any 'personal' value Bitcoin may represent to you.\n",
    "\n",
    "\n",
    "## Importing financial data using Pandas\n",
    "\n",
    "First, we have to initialize our workspace and find a suitable dataset to base our study on.\n",
    "\n",
    "* Data from 2010-07-18 to 2013-10-05 is taken from https://coinmetrics.io/data-downloads/ , source for this period is sadly unknown (MtGox maybe? since they did launch in July 2010)\n",
    "* Data from 2013-10-06 onwards is taken from Kraken BTCUSD exchange pair, downloaded from http://www.cryptodatadownload.com/data/northamerican/\n",
    "\n",
    "We will be importing the data using [Pandas](https://pandas.pydata.org/), a great python library providing high-performance, easy-to-use data structures and data analysis tools for the Python programming language. We will use it together with [matplotlib](https://matplotlib.org/3.1.0/index.html), a python 2D plotting library that is Matlab flavored. Supporting calculations will be done by [Numpy](https://numpy.org/), fundamental package for scientific computing with Python."
   ]
  },
  {
   "cell_type": "code",
   "execution_count": 195,
   "metadata": {
    "pycharm": {
     "is_executing": false,
     "name": "#%%\n"
    }
   },
   "outputs": [],
   "source": [
    "import pandas as pd\n",
    "import matplotlib.pyplot as plt\n",
    "import numpy as np\n",
    "from matplotlib.ticker import FuncFormatter\n",
    "from matplotlib import style\n",
    "import seaborn as sns\n",
    "\n",
    "sns.set()\n",
    "sns.set_style('dark')\n",
    "sns.set_palette(sns.color_palette('muted'))\n",
    "fig = plt.figure()\n",
    "fig.patch.set_alpha(0.0)\n",
    "\n",
    "\n",
    "# Basic styling\n",
    "# style.use('seaborn-notebook')\n",
    "pd.set_option('display.width', 200)\n",
    "\n",
    "# load data\n",
    "btc = pd.read_csv(\"../data/btcusd.csv\")\n",
    "\n",
    "# Index dataset by date\n",
    "btc['Date'] = pd.to_datetime(btc['Date'])\n",
    "btc = btc.set_index('Date')\n",
    "btc = btc.sort_index()\n",
    "\n",
    "# ATTENTION - this is used so regenerating the data does not update notebook automatically\n",
    "# Until I find a good way to inline numbers in markdown sections, this is the only solution\n",
    "# I can think of to guarantee some consistency between generated outputs and written text\n",
    "btc=btc.loc[:'2019-10-15']\n",
    "\n",
    "# resample dataset from days to months\n",
    "btc_monthly = btc.resample('M').ffill()\n",
    "\n",
    "# print results\n",
    "print(btc.tail())\n",
    "print(btc_monthly.tail())\n"
   ]
  },
  {
   "cell_type": "markdown",
   "metadata": {},
   "source": [
    "We have created 2 datasets. One containing daily Bitcoin history, another one reduced to show only last day of each month.   We can plot this data using matplotlib and do a first visual inspection of price changes over time. "
   ]
  },
  {
   "cell_type": "code",
   "execution_count": 196,
   "metadata": {
    "pycharm": {
     "is_executing": false,
     "name": "#%%\n"
    }
   },
   "outputs": [],
   "source": [
    "ax = plt.subplot()\n",
    "\n",
    "ax.set_yscale('log')\n",
    "ax.yaxis.set_major_formatter(FuncFormatter(lambda x, pos: '${:,.0f}'.format(x))) # Y axis dollarsymbols\n",
    "\n",
    "btc['Close'].plot(figsize=(20,10),ax=ax)\n",
    "btc_monthly['Close'].plot(ax=ax)\n",
    "\n",
    "plt.grid(linestyle='dotted')\n",
    "\n",
    "plt.xlabel(\"Date\")\n",
    "plt.ylabel(\"Price (log)\")\n",
    "plt.title(\"BTC Price\")\n",
    "ax.legend([\"Daily prices\", \"Monthly prices\"])\n",
    "\n",
    "plt.show()\n"
   ]
  },
  {
   "cell_type": "markdown",
   "metadata": {},
   "source": [
    "We will be plotting our charts are on logarithmic scale. This is just to illustrate, that a jump from $10 to $100 is the same as a jump from $100 to $1000 and the same as a jump from $1000 to $10000 when it comes to investing. In all 3 cases, your investment gained 10 times its value.\n",
    "\n",
    "We can identify past bubbles (mid 2011, Dec 2014 and Dec 2018) as well as the dips that followed. \n",
    "\n",
    "Another observation we can make from this graph, is that monthly dataset is a bit \"smoother\". This is to be expected, especially when working with an unstable underlying asset. \n",
    "\n",
    "If you look for an answer on how volatile Bitcoin is, stay tuned, this will be analysed ina future article. For now, since we are not evaluating day trading strategies and are only concerned with investments at predefined time periods, we can omit these daily swings and just work with monthly closing prices. Daily data may be needed in the future, if we decide to work with different investment strategies."
   ]
  },
  {
   "cell_type": "markdown",
   "metadata": {
    "pycharm": {
     "name": "#%% md\n"
    }
   },
   "source": [
    "## Calculating value of Lump sum investment\n",
    "\n",
    "Lump Sum means to invest everything available all at once, in this case we have a hypothetical $10,000 to spend at any month in our history of the last 9 years. Then we want to know how much that investment would be worth today.\n",
    "\n",
    "Another way to look at this is we can make a chart where the X axis is the date we invest the lump sum, and the Y axis is the value of that investment today."
   ]
  },
  {
   "cell_type": "code",
   "execution_count": 197,
   "metadata": {
    "pycharm": {
     "is_executing": false,
     "name": "#%%\n"
    }
   },
   "outputs": [],
   "source": [
    "value_price = btc_monthly['Close'][-1]\n",
    "initial_investment = 10000.00\n",
    "\n",
    "num_btc_bought = initial_investment / btc_monthly['Close']\n",
    "lumpsum = num_btc_bought * value_price\n",
    "lumpsum.name = 'Lump Sum'\n",
    "\n",
    "\n",
    "# fig2 = plt.figure(2)\n",
    "ax = plt.subplot()\n",
    "# ax = fig2.add_subplot(222)\n",
    "lumpsum[1:].plot(ax=ax, figsize=(20,10), color='r', label=\"Lump-Sum\")\n",
    "\n",
    "ax.set_yscale('log')\n",
    "plt.grid(linestyle='dotted')\n",
    "ax.yaxis.set_major_formatter(FuncFormatter(lambda x, pos: '${:,.0f}'.format(x)))\n",
    "\n",
    "ax.axhline(initial_investment, alpha=0.5, linestyle=\"--\", color=\"black\")\n",
    "ax.text(btc_monthly.index[20],initial_investment*1.3, \"Initial Investment\")\n",
    "plt.title('Lump-Sum - Present value of $10,000 invested on a date')\n",
    "plt.ylabel('Investment Value ($)')\n",
    "plt.show()\n"
   ]
  },
  {
   "cell_type": "markdown",
   "metadata": {},
   "source": [
    "Getting in early is definitely a good strategy :) if only we knew! This graph shows why so many sources and seasoned investors prefer Lump Sum investing. The sooner we put our money in, the more we can potentially gain. \n",
    "\n",
    "Let's have a closer look at some extremes."
   ]
  },
  {
   "cell_type": "code",
   "execution_count": 198,
   "metadata": {
    "pycharm": {
     "is_executing": false,
     "name": "#%%\n"
    }
   },
   "outputs": [],
   "source": [
    "recenttime = 36 #number of months to look into past\n",
    "print(\"Lump sum: Investing on the 1 - Best day, 2 - Worst day in past, 3 - Worst day in all\")\n",
    "print(\"1 - Investing $10,000 on {} would be worth ${:,.2f} today.\".format(lumpsum.idxmax().strftime('%b %d, %Y'), lumpsum.max()))\n",
    "print(\"2 - Investing $10,000 on {} would be worth ${:,.2f} today.\".format(lumpsum[:-recenttime].idxmin().strftime('%b %d, %Y'), lumpsum[:-recenttime].min()))\n",
    "print(\"3 - Investing $10,000 on {} would be worth ${:,.2f} today.\".format(lumpsum.idxmin().strftime('%b %d, %Y'), lumpsum.min()))"
   ]
  },
  {
   "cell_type": "markdown",
   "metadata": {
    "pycharm": {
     "name": "#%% md\n"
    }
   },
   "source": [
    "As expected, the worst time to buy in would be on the 2017 bubble, this would cut our savings by 42%. Good thing is, that buying on any previous one, we would still be in positive numbers. Getting in just before the 2013 bubble popped and hodling, would make us over $70,000 today, not bad for 6 years of waiting."
   ]
  },
  {
   "cell_type": "markdown",
   "metadata": {
    "pycharm": {
     "name": "#%% md\n"
    }
   },
   "source": [
    "## Calculating value of Dollar Cost Averaged investment\n",
    "Dollar Cost Averaging (DCA) assumes that we want to minimize downside risk (buying the bubble). In order to do this, we do not invest the Lump Sum available to us all at once, but instead split it into multiple portions.\n",
    "\n",
    "For our basic strategy, we will look into splitting our investment of $10,000 into 12 equal portions, and we invest these during 12 consecutive months. A special case is investing within the last year, when there isn't time to DCA all of it. As a compromise, We invest what portions We can and keep the rest as cash, since that is how reality works.\n",
    "\n",
    "Please note, that there are many more strategies and possibilities to do DCA, but we will stick to this one (for now)."
   ]
  },
  {
   "cell_type": "code",
   "execution_count": 199,
   "metadata": {
    "pycharm": {
     "is_executing": false,
     "name": "#%%\n"
    }
   },
   "outputs": [],
   "source": [
    "def doDCA(investment, start_date):\n",
    "    # Get 12 investment dates in 30 day increments starting from start date\n",
    "    investment_dates_all = pd.date_range(start_date,periods=12,freq='1M')\n",
    "    # Remove those dates beyond our known data range\n",
    "    investment_dates = investment_dates_all[investment_dates_all < btc_monthly.index[-1]]\n",
    "\n",
    "    # Get closest business dates with available data\n",
    "    closest_investment_dates = btc.index.searchsorted(investment_dates)\n",
    "\n",
    "    # How much to invest on each date\n",
    "    portion = investment/12.0 # (Python 3.0 does implicit double conversion, Python 2.7 does not)\n",
    "\n",
    "    # Get the total of all stocks purchased for each of those dates (on the Close)\n",
    "    stocks_invested = sum(portion / btc_monthly['Close'][investment_dates])\n",
    "\n",
    "    # Add uninvested amount back\n",
    "    uninvested_dollars = portion * sum(investment_dates_all >= btc_monthly.index[-1])\n",
    "\n",
    "    # value of stocks today\n",
    "    total_value = value_price*stocks_invested + uninvested_dollars\n",
    "    return total_value\n",
    "\n",
    "# Generate DCA series for every possible date\n",
    "dca = pd.Series(btc_monthly.index.map(lambda x: doDCA(initial_investment, x)), index=btc_monthly.index, name='Dollar Cost Averaging (DCA)')"
   ]
  },
  {
   "cell_type": "markdown",
   "metadata": {
    "pycharm": {
     "name": "#%% md\n"
    }
   },
   "source": [
    "Surprisingly straightforward, good job Pandas. Let's plot it similar to how we did with lump sum. The x axis is the date at which we start dollar cost averaging (and then continue for the next 12 months in monthly increments from that date). The y axis is the final value of our investment today."
   ]
  },
  {
   "cell_type": "code",
   "execution_count": 200,
   "metadata": {
    "pycharm": {
     "is_executing": false,
     "name": "#%%\n"
    }
   },
   "outputs": [],
   "source": [
    "ax = plt.subplot()\n",
    "dca[1:].plot(ax=ax, figsize=(20,10), color='b', label=\"DCA\")\n",
    "\n",
    "ax.set_yscale('log')\n",
    "plt.grid(linestyle='dotted')\n",
    "ax.yaxis.set_major_formatter(FuncFormatter(lambda x, pos: '${:,.0f}'.format(x)))\n",
    "\n",
    "ax.axhline(initial_investment, alpha=0.5, linestyle=\"--\", color=\"black\")\n",
    "ax.text(btc_monthly.index[20],initial_investment*1.3, \"Initial Investment\")\n",
    "plt.title('Dollar Cost Averaging - Present value of $10,000 invested on a date')\n",
    "plt.ylabel('Investment Value ($)')\n",
    "plt.show()"
   ]
  },
  {
   "cell_type": "markdown",
   "metadata": {
    "pycharm": {
     "name": "#%% md\n"
    }
   },
   "source": [
    "Interesting! DCA looks way really smooth and the graph is really high up, so it must be better right!? Wait, no, the Y axis is different, in fact it's highest high is one order of magnitude lower in comparison to the Lump Sum. Let's look at the ideal/worst investment dates for DCA, I include the lump sum from before as well."
   ]
  },
  {
   "cell_type": "code",
   "execution_count": 201,
   "metadata": {
    "pycharm": {
     "is_executing": false,
     "name": "#%%\n"
    }
   },
   "outputs": [],
   "source": [
    "print(\"Lump sum: Investing on the 1 - Best day, 2 - Worst day in past, 3 - Worst day in all\")\n",
    "print(\"1 - Investing $10,000 on {} would be worth ${:,.2f} today.\".format(lumpsum.idxmax().strftime('%b %d, %Y'), lumpsum.max()))\n",
    "print(\"2 - Investing $10,000 on {} would be worth ${:,.2f} today.\".format(lumpsum[:-recenttime].idxmin().strftime('%b %d, %Y'), lumpsum[:-recenttime].min()))\n",
    "print(\"3 - Investing $10,000 on {} would be worth ${:,.2f} today.\".format(lumpsum.idxmin().strftime('%b %d, %Y'), lumpsum.min()))\n",
    "\n",
    "print(\"DCA: Investing on the 1 - Best day, 2 - Worst day in past, 3 - Worst day in all\")\n",
    "print(\"1 - Investing $10,000 on {} would be worth ${:,.2f} today.\".format(dca.idxmax().strftime('%b %d, %Y'), dca.max()))\n",
    "print(\"2 - Investing $10,000 on {} would be worth ${:,.2f} today.\".format(dca[:-recenttime].idxmin().strftime('%b %d, %Y'), dca[:-recenttime].min()))\n",
    "print(\"3 - Investing $10,000 on {} would be worth ${:,.2f} today.\".format(dca.idxmin().strftime('%b %d, %Y'), dca.min()))"
   ]
  },
  {
   "cell_type": "markdown",
   "metadata": {},
   "source": [
    "Looking at DCA, best day to start would be one month earlier compared to Lump Sum - July of 2010. Its worst performance is not a tall related to the crash of 2017, but rather very recent - May 2019. This is to be expected, since extreme ups and downs are smoothed out by this strategy.\n",
    "\n",
    "We can already see that there's some similarities between lump sum and DCA, DCA appears to have lower highs, but also higher lows. It's difficult to compare just by looking at numbers, we need to compare the two strategies visually side by side."
   ]
  },
  {
   "cell_type": "markdown",
   "metadata": {
    "pycharm": {
     "name": "#%% md\n"
    }
   },
   "source": [
    "## Comparison of Lump Sum vs Dollar Cost Averaging\n",
    "\n",
    "In order to conclude our research, we can plot a combined graph showing\n",
    "* Bitcoin price evolution\n",
    "* Above comparison of Lump Sum vs DCA investment strategies\n",
    "* Difference between these 2 strategies for any given month"
   ]
  },
  {
   "cell_type": "code",
   "execution_count": 202,
   "metadata": {
    "pycharm": {
     "is_executing": false,
     "name": "#%%\n"
    }
   },
   "outputs": [],
   "source": [
    "# Difference between lump sum and DCA\n",
    "diff = (lumpsum - dca)\n",
    "diff.name = 'Difference (Lump Sum - DCA)'\n",
    "\n",
    "fig, (ax1, ax2, ax3) = plt.subplots(3,1, figsize=(20,25), sharex=True)\n",
    "\n",
    "# BTC Actual\n",
    "btc_monthly['Close'].plot(ax=ax1)\n",
    "ax1.set_yscale('log')\n",
    "ax1.yaxis.set_major_formatter(FuncFormatter(lambda x, pos: '${:,.0f}'.format(x)))\n",
    "ax1.set_xlabel('')\n",
    "ax1.set_title('BTC Historical Price')\n",
    "ax1.set_ylabel('Stock Value ($)')\n",
    "ax1.grid(True)\n",
    "\n",
    "# Comparison\n",
    "dca.plot(ax=ax2)\n",
    "lumpsum.plot(ax=ax2)\n",
    "ax2.axhline(initial_investment, alpha=0.5, linestyle=\"--\", color=\"black\")\n",
    "ax2.text(btc_monthly.index[20],initial_investment*1.3, \"Initial Investment\")\n",
    "ax2.grid(True)\n",
    "\n",
    "ax2.set_yscale('log')\n",
    "ax2.yaxis.set_major_formatter(FuncFormatter(lambda x, pos: '${:,.0f}'.format(x)))\n",
    "ax2.legend()\n",
    "ax2.set_title('Comparison Lump Sum vs. Dollar Cost Averaging - Value of $10,000 invested on date')\n",
    "ax2.set_ylabel('Investment Value ($)')\n",
    "\n",
    "# Difference\n",
    "diff.plot(ax=ax3)\n",
    "ax3.fill_between(diff.index, y1=diff, y2=0, color='blue', where=diff>0)\n",
    "ax3.fill_between(diff.index, y1=diff, y2=0, color='red', where=diff<0)\n",
    "ax3.grid(True)\n",
    "\n",
    "ax3.set_yscale('symlog')\n",
    "ax3.yaxis.set_major_formatter(FuncFormatter(lambda x, pos: '${:,.0f}'.format(x))) \n",
    "ax3.set_ylabel('Difference ($)')\n",
    "ax3.set_title('Difference (Lump Sum - Dollar Cost Average)')\n",
    "ax3.legend([\"\", \"Lump Sum > DCA\", \"DCA > Lump Sum\"])\n",
    "\n",
    "plt.show()"
   ]
  },
  {
   "cell_type": "markdown",
   "metadata": {
    "pycharm": {
     "name": "#%% md\n"
    }
   },
   "source": [
    "## Statistics\n",
    "Before we start comparing, definitely take note of the middle chart, where the initial investment of $10k is. Notice that if we had invested using either strategy, and at any point before 2 years ago, no matter which bubble or crash, we'd have made some pretty huge returns on our investments.\n",
    "\n",
    "Looking at the DCA curve we do see the 4 similar humps we saw with the lump sum, but is both smoother and lags behind it. This makes perfect sense, as we're taking a type of moving average of Bitcoin price over a year (in monthly increments) when we buy, instead of a single date.\n",
    "\n",
    "As a result our investment with DCA is less volatile (smoother), and lags behind (averages in previous investments) the lump sum values.\n",
    "\n",
    "The line for difference shows a positive dollar value for how much more investing in one lump sum would return versus dollar cost averaging in (blue). Similarly, a negative value shows how much more dollar cost averaging would return vs a lump sum (red). The chart shows a wide swing mid-2011, around 2014 and in 2018 between the two strategies, but elsewhere it's mostly positive (blue), suggesting lump sum tends to return a bit more overall. Let's look at the actual percentage where the values are positive (where lump sum returns more)."
   ]
  },
  {
   "cell_type": "code",
   "execution_count": 203,
   "metadata": {
    "pycharm": {
     "is_executing": false,
     "name": "#%%\n"
    }
   },
   "outputs": [],
   "source": [
    "print(\"Lump sum returns more than DCA %.1f%% of all the days\" % (100*sum(diff>0)/len(diff)))\n",
    "print(\"DCA returns more than Lump sum %.1f%% of all the days\" % (100*sum(diff<0)/len(diff)))"
   ]
  },
  {
   "cell_type": "markdown",
   "metadata": {
    "pycharm": {
     "name": "#%% md\n"
    }
   },
   "source": [
    "Surprisingly, we arrive to the same conclusion as it is on traditional markets. 67.9% of the time, Lump Sum results in a higher final investment value over our monthly dollar cost averaging strategy. \n",
    "\n",
    "But maybe this isn't the whole story, perhaps the lump sum returned a little better than DCA most of the time, but in the really bad times DCA would do much better?\n",
    "\n",
    "One way to look at this, would be to see the average amount improvement lump sum has when it is better, versus the average amount DCA improves, when it is better."
   ]
  },
  {
   "cell_type": "code",
   "execution_count": 204,
   "metadata": {
    "pycharm": {
     "is_executing": false,
     "name": "#%%\n"
    }
   },
   "outputs": [],
   "source": [
    "print(\"Mean difference: Average dollar improvement lump sum returns vs. dca: ${:,.2f}\".format(sum(diff) / len(diff)))\n",
    "print(\"Mean difference when lump sum > dca: ${:,.2f}\".format(sum(diff[diff>0]) / sum(diff>0)))\n",
    "print(\"Mean difference when dca > lump sum: ${:,.2f}\".format(sum(-diff[diff<0]) / sum(diff<0)))"
   ]
  },
  {
   "cell_type": "markdown",
   "metadata": {
    "pycharm": {
     "name": "#%% md\n"
    }
   },
   "source": [
    "So, for every possible day in the last 9 years, a lump sum investment of $10,000 would have returned on average $35 million(!) more than dollar cost averaging, I doubt there is an equivalent of this that exists on traditional markets (this may be an idea for a future article). However, when lump sum is better, it returned about $53 million more. Conversely, when dollar cost averaging was better than lump sum, it returned only $1 million more on average.\n",
    "\n",
    "Since this is really extreme, I will make an exception and look at more recent dataset. "
   ]
  },
  {
   "cell_type": "code",
   "execution_count": 205,
   "metadata": {
    "pycharm": {
     "is_executing": false,
     "name": "#%%\n"
    }
   },
   "outputs": [],
   "source": [
    "first_100_day = (btc_monthly['Close'] >= 100).idxmax()\n",
    "print(first_100_day)"
   ]
  },
  {
   "cell_type": "markdown",
   "metadata": {
    "pycharm": {
     "name": "#%% md\n"
    }
   },
   "source": [
    "Above function finds first occurrence  of Bitcoin hitting value of $100. This effectively removes all the massive gains one could have when getting in during the first months of Bitcoins existence. It is also questionable, it there was enough market cap to actually invest $10,000 in those early days (pre $1-era at least), and if there was, what effect would such an investment have. Market cap will be most probably be studied in another article in the future.\n",
    "\n",
    "Please note, that we do this to show the difference between our investment strategies on a more realistic scale, any manipulation of the dataset in this manner is very dangerous and can lead to [regularization](https://en.wikipedia.org/wiki/Regularization_(mathematics)) problems or outright wishful thinking. If we tweak the strategy and data long enough, we can come up with a perfect model (say we pick only 1 year out of 9, where one or the other strategy performed better, or find perfect dates to invest on following a defined formula), but this model will most likely crumble under real world conditions. \n",
    "\n",
    "That being said, all while knowing our choice ***heavily*** favors DCA over Lump Sum, we can once again, see the average amount improvement Lump Sum has when it is better, versus the average amount DCA improves when it is better."
   ]
  },
  {
   "cell_type": "code",
   "execution_count": 206,
   "metadata": {
    "pycharm": {
     "is_executing": false,
     "name": "#%%\n"
    }
   },
   "outputs": [],
   "source": [
    "recentdiff = diff.loc[first_100_day:'2019-12-31']\n",
    "\n",
    "print(\"Lump sum returns more than DCA %.1f%% of all the days\" % (100*sum(recentdiff>0)/len(recentdiff)))\n",
    "print(\"DCA returns more than Lump sum %.1f%% of all the days\" % (100*sum(recentdiff<0)/len(recentdiff)))\n",
    "print(\"Mean difference: Average dollar improvement lump sum returns vs. dca: ${:,.2f}\".format(sum(recentdiff) / len(recentdiff)))\n",
    "print(\"Mean difference when lump sum > dca: ${:,.2f}\".format(sum(recentdiff[recentdiff>0]) / sum(recentdiff>0)))\n",
    "print(\"Mean difference when dca > lump sum: ${:,.2f}\".format(sum(-recentdiff[recentdiff<0]) / sum(recentdiff<0)))"
   ]
  },
  {
   "cell_type": "markdown",
   "metadata": {
    "pycharm": {
     "name": "#%% md\n"
    }
   },
   "source": [
    "As expected, after we cut the 'best' days, DCA will be better more often and our billion-dollar gains are gone. But still, Lump Sum is yields better result over 60% of time.\n",
    "\n",
    "So for every possible day in the last 6 or so years, a lump sum investment of $10,000 would have returned on average $40 thousand more than dollar cost averaging. However, when lump sum is better, it returned about $92 thousand more. Conversely, when dollar cost averaging was better than Lump Sum, it returned only $40 thousand more on average.\n",
    "\n",
    "So far, we can conclude that DCA is not yielding better results than Lump Sum even at times when it is better. This, combined with the fact that DCA is better only in 38% cases (31% for crypto billionaire scenario) shows us that it is a far inferior investment strategy when it comes to investing into Bitcoin.\n",
    "\n",
    "So despite the fact DCA did do a better job during the crash, it does worse enough elsewhere that in the long term it's the weaker strategy.\n",
    "\n",
    "## Conclusion\n",
    "**We created a simple trial comparing lump sum to the strategy of investing in the same amount monthly over a year, and found that lump sum still won ~67.9% of the time. Even the arbitrarily reduced dataset showed that Lump Sum beats DCA 60.8% of time.**\n",
    "\n",
    "This experiment does give us some useful insights though. Dollar Cost Averaging is a form of smoothing that reduces the volatility associated with investing date. Investing at the 'wrong' time can cause a lot of anxiety and wishful thinking, *if only I had waited to buy in or if only I sold at the peak*. Using DCA we can alleviate the pressure of worrying that we're investing at a peak right before a looming cliff. This peace of mind comes at a great cost though, as we are reducing the statistical average return by more than ~50% compared to Lump Sum strategy (in this very specific example, not generalizable).\n",
    "\n"
   ]
  }
 ],
 "metadata": {
  "kernelspec": {
   "display_name": "Python 3",
   "language": "python",
   "name": "python3"
  },
  "language_info": {
   "codemirror_mode": {
    "name": "ipython",
    "version": 3
   },
   "file_extension": ".py",
   "mimetype": "text/x-python",
   "name": "python",
   "nbconvert_exporter": "python",
   "pygments_lexer": "ipython3",
   "version": "3.7.4"
  },
  "pycharm": {
   "stem_cell": {
    "cell_type": "raw",
    "source": [],
    "metadata": {
     "collapsed": false
    }
   }
  }
 },
 "nbformat": 4,
 "nbformat_minor": 1
}