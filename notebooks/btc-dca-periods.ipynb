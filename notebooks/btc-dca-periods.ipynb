{
 "cells": [
  {
   "cell_type": "markdown",
   "metadata": {
    "collapsed": true,
    "pycharm": {
     "name": "#%% md\n"
    }
   },
   "source": [
    "---\n",
    "title: \"Demonstrating effect of period length on ROI of DCA strategy\"\n",
    "date: 2019-10-27T20:45:00+02:00\n",
    "draft: false\n",
    "math: false\n",
    "image:\n",
    "  placement: 0\n",
    "  caption: 'Image credit: [**M. B. M.**](https://unsplash.com/photos/ZzOa5G8hSPI)'\n",
    "summary: Aim of this article is to evaluate if choosing a smaller period for investing portions of our lump sum while doing Dollar Cost Averaging, has any effect on our returns.\n",
    "---"
   ]
  },
  {
   "cell_type": "markdown",
   "source": [
    "## Disclaimer\n",
    "\n",
    "As usual, bear in mind that **past performance is not indicative of future results**. This article is about evaluating and understanding performance of strategies from an arbitrary point of time in the past until today. Basing your financial decisions solely on this source would be, at best, irresponsible. If you are just looking to get rich quick, buying lottery tickets may be more effective and yield more predictive result than trying to understand Bitcoin.\n",
    "\n",
    "## TL;DR\n",
    "We created an experiment demonstrating that monthly DCA yields statistically better results compared to both weekly and daily strategy. At its best, with an initial investment of $2,500, we will have $248.60 more on average compared to weekly investments, or $380.34 more compared to daily investments. \n",
    "\n",
    "## Definition of our problem\n",
    "\n",
    "This article is inspired by a question on [r/Bitcoin](https://www.reddit.com/r/Bitcoin/comments/dnvfhk/best_way_to_dollar_cost_averaging_monthly_or/) and its \n",
    "aim is to evaluate if choosing a smaller period for investing portions of our lump sum while doing Dollar Cost Averaging, has any effect on our returns.\n",
    "\n",
    "We chose 3 strategies to compare:\n",
    "\n",
    "1. We divide our funds into 4 equal portions and invest monthly (every 30 calendar days)\n",
    "2. We divide our funds into 16 equal portions and invest weekly (every 7 calendar days)\n",
    "3. We divide our funds into 120 equal portions and invest daily\n",
    "\n",
    "## Assumptions\n",
    "\n",
    "- We have $2,500 to invest\n",
    "- We already decided, that we want to Dollar Cost Average. See our article on [comparing Bitcion investment strategies](https://shitcoin.ninja/post/2019/10/comparing-bitcoin-investment-strategies/) for more information on this subject.\n",
    "- We do not take price of money, opportunity costs or inflation into account. (This would marginally investments with less portions / longer periods)\n",
    "- Our investment value is based on the closing price of any given period.\n",
    "- We do not take any commissions or transaction related fees into account. (This would marginally investments with less portions / longer periods) \n",
    "\n",
    "## Importing financial data using Pandas\n",
    "\n",
    "First, we have to initialize our workspace and find a suitable dataset to base our study on. \n",
    "\n",
    "- Data from 2013-10-06 onwards is taken from Kraken BTCUSD exchange pair, downloaded from http://www.cryptodatadownload.com/data/northamerican/\n",
    "\n",
    "We will be importing the data using Pandas, a great python library providing high-performance, easy-to-use data structures and data analysis tools for the Python programming language. We will use it together with matplotlib, a python 2D plotting library that is Matlab flavored. Supporting calculations will be done by Numpy, fundamental package for scientific computing with Python.\n"
   ],
   "metadata": {
    "collapsed": false
   }
  },
  {
   "cell_type": "code",
   "execution_count": 127,
   "outputs": [],
   "source": [
    "import pandas as pd\n",
    "import matplotlib.pyplot as plt\n",
    "import numpy as np\n",
    "from matplotlib.ticker import FuncFormatter\n",
    "from matplotlib import style\n",
    "import seaborn as sns\n",
    "\n",
    "sns.set()\n",
    "sns.set_style('dark')\n",
    "sns.set_palette(sns.color_palette('muted'))\n",
    "fig = plt.figure()\n",
    "fig.patch.set_alpha(0.0)\n",
    "\n",
    "\n",
    "# Basic styling\n",
    "# style.use('seaborn-notebook')\n",
    "pd.set_option('display.width', 200)\n",
    "\n",
    "# load data\n",
    "btc = pd.read_csv(\"../data/source/Kraken_BTCUSD_d.csv\", skiprows=1, usecols=['Date', 'Close'])\n",
    "# Index dataset by date\n",
    "btc['Date'] = pd.to_datetime(btc['Date'])\n",
    "btc = btc.set_index('Date')\n",
    "btc = btc.sort_index()\n",
    "\n",
    "# ATTENTION - this is used so regenerating the data does not update notebook automatically\n",
    "# Until I find a good way to inline numbers in markdown sections, this is the only solution\n",
    "# I can think of to guarantee some consistency between generated outputs and written text\n",
    "btc=btc.loc[:'2019-10-17']\n",
    "\n",
    "# print results\n",
    "print(btc.tail())"
   ],
   "metadata": {
    "collapsed": false,
    "pycharm": {
     "name": "#%%\n",
     "is_executing": false
    }
   }
  },
  {
   "cell_type": "markdown",
   "source": [
    "## Calculating value of Dollar Cost Averaged investment\n",
    "\n",
    "For our strategy, we will look into splitting our investment of $2,500 into 4, 16 or 120 equal portions, and we invest these during 4 consecutive months, 16 consecutive weeks or 120 consecutive days. A special case is investing within the last year, when there isn't time to DCA all of it. As a compromise, We invest what portions we can and keep the rest as cash, since that is how reality works.\n",
    "\n",
    "Please note, that there are many more strategies and possibilities to do DCA, but we will stick to this one (for now)."
   ],
   "metadata": {
    "collapsed": false,
    "pycharm": {
     "name": "#%% md\n"
    }
   }
  },
  {
   "cell_type": "code",
   "execution_count": 128,
   "outputs": [],
   "source": [
    "value_price = btc['Close'][-1]\n",
    "initial_investment = 2500.00\n",
    "\n",
    "def doDCAmonthly(investment, start_date, periods, freq):\n",
    "    investment_dates_all = pd.date_range(start_date,periods=periods,freq=freq)\n",
    "    # Remove those dates beyond our known data range\n",
    "    investment_dates = investment_dates_all[investment_dates_all < btc.index[-1]]\n",
    "\n",
    "    # Get closest business dates with available data\n",
    "    closest_investment_dates = btc.index.searchsorted(investment_dates)\n",
    "\n",
    "    # How much to invest on each date\n",
    "    portion = investment/periods \n",
    "\n",
    "    # Get the total of all stocks purchased for each of those dates (on the Close)\n",
    "    stocks_invested = sum(portion / btc['Close'][closest_investment_dates])\n",
    "\n",
    "    # Add uninvested amount back\n",
    "    uninvested_dollars = portion * sum(investment_dates_all >= btc.index[-1])\n",
    "\n",
    "    # value of stocks today\n",
    "    total_value = value_price*stocks_invested + uninvested_dollars\n",
    "    return total_value\n",
    "\n",
    "# Generate DCA series for every possible date and investment strategy\n",
    "dca_m = pd.Series(btc.index.map(lambda x: doDCAmonthly(initial_investment, x, 4, '30D')), index=btc.index, name='Monthly DCA')\n",
    "\n",
    "dca_w = pd.Series(btc.index.map(lambda x: doDCAmonthly(initial_investment, x, 16, '7D')), index=btc.index, name='Weekly DCA')\n",
    "\n",
    "dca_d = pd.Series(btc.index.map(lambda x: doDCAmonthly(initial_investment, x, 120, '1D')), index=btc.index, name='Daily DCA')"
   ],
   "metadata": {
    "collapsed": false,
    "pycharm": {
     "name": "#%%\n",
     "is_executing": false
    }
   }
  },
  {
   "cell_type": "markdown",
   "source": [
    "We now have 3 series with possible gains for all 3 chosen strategies.  In order to better represent them, we can join them together and plot a figure with our gains."
   ],
   "metadata": {
    "collapsed": false,
    "pycharm": {
     "name": "#%% md\n"
    }
   }
  },
  {
   "cell_type": "code",
   "execution_count": 129,
   "outputs": [],
   "source": [
    "dca = pd.concat([dca_d, dca_m, dca_w], axis=1)\n",
    "\n",
    "ax = plt.subplot()\n",
    "dca[1:].plot(ax=ax, figsize=(20,10), color=['b','r','g'], label=\"DCA\")\n",
    "\n",
    "ax.set_yscale('log')\n",
    "plt.grid(linestyle='dotted')\n",
    "ax.yaxis.set_major_formatter(FuncFormatter(lambda x, pos: '${:,.0f}'.format(x)))\n",
    "\n",
    "ax.axhline(initial_investment, alpha=0.5, linestyle=\"--\", color=\"black\")\n",
    "ax.text(btc.index[20],initial_investment*1.3, \"Initial Investment\")\n",
    "plt.title('Dollar Cost Averaging - Present value of $2,500 invested on a date')\n",
    "plt.ylabel('Investment Value ($)')\n",
    "plt.show()"
   ],
   "metadata": {
    "collapsed": false,
    "pycharm": {
     "name": "#%%\n",
     "is_executing": false
    }
   }
  },
  {
   "cell_type": "markdown",
   "source": [
    "It looks like all 3 lines are pretty much the same, with monthly strategy being more volatile than weekly or daily ones. This is to be expected, since monthly jumps may be more significant than daily ones.\n",
    "\n",
    "## Comparing the results\n",
    "\n",
    "Let's count number of days any given strategy is winning:"
   ],
   "metadata": {
    "collapsed": false,
    "pycharm": {
     "name": "#%% md\n"
    }
   }
  },
  {
   "cell_type": "code",
   "execution_count": 130,
   "outputs": [],
   "source": [
    "winners = dca.idxmax(axis=1)\n",
    "print(winners.value_counts())\n"
   ],
   "metadata": {
    "collapsed": false,
    "pycharm": {
     "name": "#%%\n",
     "is_executing": false
    }
   }
  },
  {
   "cell_type": "markdown",
   "source": [
    "Now that's less expected, but once again it makes sense - since Bitcoins has upwards tendency, we profit from sticking in money earlier, and therefore investing big in larger sums maximizes our investments. This is the same reason, why [Lump Sum is statistically better than DCA overall](https://shitcoin.ninja/post/2019/10/comparing-bitcoin-investment-strategies/).\n",
    "\n",
    "Now, let's see if the fact that monthly investment leads majority of days has any statistical significance:"
   ],
   "metadata": {
    "collapsed": false,
    "pycharm": {
     "name": "#%% md\n"
    }
   }
  },
  {
   "cell_type": "code",
   "execution_count": 131,
   "outputs": [],
   "source": [
    "diff_mw = dca['Monthly DCA'] - dca['Weekly DCA']\n",
    "\n",
    "print(\"Monthly DCA returns more than Weekly DCA %.1f%% of all the days\" % (100*sum(diff_mw>0)/len(diff_mw)))\n",
    "print(\"Weekly DCA returns more than Monthly DCA %.1f%% of all the days\" % (100*sum(diff_mw<0)/len(diff_mw)))\n",
    "\n",
    "print(\"Mean difference: Average dollar improvement Monthly DCA returns vs. Weekly DCA: ${:,.2f}\".format(sum(diff_mw) / len(diff_mw)))\n",
    "print(\"Mean difference when Monthly DCA > Weekly DCA: ${:,.2f}\".format(sum(diff_mw[diff_mw>0]) / sum(diff_mw>0)))\n",
    "print(\"Mean difference when Weekly DCA > Monthly DCA: ${:,.2f}\".format(sum(-diff_mw[diff_mw<0]) / sum(diff_mw<0)))"
   ],
   "metadata": {
    "collapsed": false,
    "pycharm": {
     "name": "#%%\n",
     "is_executing": false
    }
   }
  },
  {
   "cell_type": "markdown",
   "source": [
    "For the sake of completeness, we will do the same calculation for Monthly vs Daily strategy"
   ],
   "metadata": {
    "collapsed": false
   }
  },
  {
   "cell_type": "code",
   "execution_count": 132,
   "outputs": [],
   "source": [
    "diff_md = dca['Monthly DCA'] - dca['Daily DCA']\n",
    "\n",
    "print(\"Monthly DCA returns more than Daily DCA %.1f%% of all the days\" % (100*sum(diff_md>0)/len(diff_md)))\n",
    "print(\"Daily DCA returns more than Monthly DCA %.1f%% of all the days\" % (100*sum(diff_md<0)/len(diff_md)))\n",
    "\n",
    "print(\"Mean difference: Average dollar improvement Monthly DCA returns vs. Daily DCA: ${:,.2f}\".format(sum(diff_md) / len(diff_md)))\n",
    "print(\"Mean difference when Monthly DCA > Daily DCA: ${:,.2f}\".format(sum(diff_md[diff_md>0]) / sum(diff_md>0)))\n",
    "print(\"Mean difference when Daily DCA > Monthly DCA: ${:,.2f}\".format(sum(-diff_md[diff_md<0]) / sum(diff_md<0)))"
   ],
   "metadata": {
    "collapsed": false,
    "pycharm": {
     "name": "#%%\n",
     "is_executing": false
    }
   }
  },
  {
   "cell_type": "markdown",
   "source": [
    "As well as for the Weekly vs Daily strategy"
   ],
   "metadata": {
    "collapsed": false,
    "pycharm": {
     "name": "#%% md\n"
    }
   }
  },
  {
   "cell_type": "code",
   "execution_count": 133,
   "outputs": [],
   "source": [
    "diff_wd = dca['Weekly DCA'] - dca['Daily DCA']\n",
    "\n",
    "print(\"Weekly DCA returns more than Daily DCA %.1f%% of all the days\" % (100*sum(diff_wd>0)/len(diff_wd)))\n",
    "print(\"Daily DCA returns more than Weekly DCA %.1f%% of all the days\" % (100*sum(diff_wd<0)/len(diff_wd)))\n",
    "\n",
    "print(\"Mean difference: Average dollar improvement Weekly DCA returns vs. Daily DCA: ${:,.2f}\".format(sum(diff_wd) / len(diff_wd)))\n",
    "print(\"Mean difference when Weekly DCA > Daily DCA: ${:,.2f}\".format(sum(diff_wd[diff_wd>0]) / sum(diff_wd>0)))\n",
    "print(\"Mean difference when Daily DCA > Weekly DCA: ${:,.2f}\".format(sum(-diff_wd[diff_wd<0]) / sum(diff_wd<0)))"
   ],
   "metadata": {
    "collapsed": false,
    "pycharm": {
     "name": "#%%\n",
     "is_executing": false
    }
   }
  },
  {
   "cell_type": "markdown",
   "source": [
    "## Conclusion\n",
    "There we have it. Overall, monthly DCA yields statistically better results compared to both weekly and daily strategy. At its best, with an initial investment of $2,500, we will have $248.60 more on average compared to weekly investments, or $380.34 more compared to daily investments. That is more than 10% of gain compared to the 2 other strategies!\n",
    "\n",
    "Not only that, but when Monthly strategy is winning (which is majority of time), it also yields statistically better results compared to either weekly or daily strategy. \n",
    "\n",
    "## Reminder\n",
    "As always, if you have any corrections to this article, give me a shout on twitter, or [fork the repository on github](https://github.com/PPFilip/btc-investing) and make a pull request. All constructive feedback is more than welcome. \n",
    "\n",
    "\n",
    "   "
   ],
   "metadata": {
    "collapsed": false,
    "pycharm": {
     "name": "#%% md\n"
    }
   }
  }
 ],
 "metadata": {
  "kernelspec": {
   "display_name": "Python 3",
   "language": "python",
   "name": "python3"
  },
  "language_info": {
   "codemirror_mode": {
    "name": "ipython",
    "version": 2
   },
   "file_extension": ".py",
   "mimetype": "text/x-python",
   "name": "python",
   "nbconvert_exporter": "python",
   "pygments_lexer": "ipython2",
   "version": "2.7.6"
  },
  "pycharm": {
   "stem_cell": {
    "cell_type": "raw",
    "source": [],
    "metadata": {
     "collapsed": false
    }
   }
  }
 },
 "nbformat": 4,
 "nbformat_minor": 0
}