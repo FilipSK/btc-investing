{
 "cells": [
  {
   "cell_type": "markdown",
   "metadata": {
    "collapsed": true,
    "pycharm": {
     "name": "#%% md\n"
    }
   },
   "source": [
    "# Analysis of Bitcoin volatility"
   ]
  },
  {
   "cell_type": "code",
   "execution_count": null,
   "outputs": [],
   "source": [
    "import pandas as pd\n",
    "import matplotlib.pyplot as plt\n",
    "import numpy as np\n",
    "from matplotlib.ticker import FuncFormatter\n",
    "from matplotlib import style\n",
    "\n",
    "# Basic styling\n",
    "style.use('seaborn-notebook')\n",
    "pd.set_option('display.width', 200)\n",
    "\n",
    "# load data\n",
    "btc = pd.read_csv(\"../data/btcusd.csv\")\n",
    "\n",
    "# Index dataset by date\n",
    "btc['Date'] = pd.to_datetime(btc['Date'])\n",
    "btc = btc.set_index('Date')\n",
    "btc = btc.sort_index()\n",
    "\n",
    "# resample dataset from days to months\n",
    "btc_monthly = btc.resample('M').ffill()\n"
   ],
   "metadata": {
    "collapsed": false,
    "pycharm": {
     "name": "#%%\n"
    }
   }
  },
  {
   "cell_type": "code",
   "execution_count": null,
   "outputs": [],
   "source": [
    "btc_daily_returns = btc['Close'].pct_change()\n",
    "btc_monthly_returns = btc_monthly['Close'].pct_change()\n",
    "\n",
    "ax1 = plt.subplot()\n",
    "btc_monthly_returns[2:].plot(ax=ax1, figsize=(20,5), label='Monthly return')\n",
    "plt.ylabel(\"Price change from previous month (%)\")\n",
    "plt.title(\"Bitcoin monthly volatility\")\n",
    "plt.grid(linestyle='dotted')\n",
    "vals = ax1.get_yticks()\n",
    "ax1.set_yticklabels(['{:,.0%}'.format(x) for x in vals])\n",
    "plt.axhline(linewidth=2, color='black')\n",
    "plt.show()\n",
    "\n",
    "ax1 = plt.subplot()\n",
    "btc_daily_returns[2:].plot(ax=ax1, figsize=(20,5), label='Daily return')\n",
    "plt.ylabel(\"Price change from previous day (%)\")\n",
    "plt.title(\"Bitcoin daily volatility\")\n",
    "plt.grid(linestyle='dotted')\n",
    "vals = ax1.get_yticks()\n",
    "ax1.set_yticklabels(['{:,.0%}'.format(x) for x in vals])\n",
    "plt.axhline(linewidth=2, color='black')\n",
    "plt.show()\n"
   ],
   "metadata": {
    "collapsed": false,
    "pycharm": {
     "name": "#%%\n"
    }
   }
  },
  {
   "cell_type": "markdown",
   "source": [
    "Now there's no denying this is definitely swingy. We can also draw a histogram of these swings."
   ],
   "metadata": {
    "collapsed": false
   }
  },
  {
   "cell_type": "code",
   "execution_count": null,
   "outputs": [],
   "source": [
    "n, bins, patches = plt.hist(x=btc_monthly_returns[2:], bins=25)\n",
    "plt.xlabel('Value')\n",
    "plt.ylabel('Frequency')\n",
    "plt.title('Bitcoin monthly volatility')\n",
    "maxfreq = n.max()\n",
    "plt.axvline(linewidth=2, color='black')\n",
    "plt.ylim(ymax=np.ceil(maxfreq / 10) * 10 if maxfreq % 10 else maxfreq + 10)\n",
    "# ax = plt.subplot()\n",
    "# vals = ax.get_xticks()\n",
    "# ax.set_xticklabels(['{:,.1%}'.format(x) for x in vals])\n",
    "plt.show()"
   ],
   "metadata": {
    "collapsed": false,
    "pycharm": {
     "name": "#%%\n"
    }
   }
  },
  {
   "cell_type": "code",
   "execution_count": null,
   "outputs": [],
   "source": [
    "n, bins, patches = plt.hist(x=btc_daily_returns[2:], bins=50)\n",
    "plt.xlabel('Value')\n",
    "plt.ylabel('Frequency')\n",
    "plt.title('Bitcoin daily volatility')\n",
    "maxfreq = n.max()\n",
    "plt.axvline(linewidth=2, color='black')\n",
    "plt.ylim(ymax=np.ceil(maxfreq / 10) * 10 if maxfreq % 10 else maxfreq + 10)\n",
    "# ax = plt.subplot()\n",
    "# vals = ax.get_xticks()\n",
    "# ax.set_xticklabels(['{:,.1%}'.format(x) for x in vals])\n",
    "\n",
    "\n",
    "plt.show()\n",
    "\n",
    "\n",
    "\n"
   ],
   "metadata": {
    "collapsed": false,
    "pycharm": {
     "name": "#%%\n"
    }
   }
  }
 ],
 "metadata": {
  "kernelspec": {
   "display_name": "Python 3",
   "language": "python",
   "name": "python3"
  },
  "language_info": {
   "codemirror_mode": {
    "name": "ipython",
    "version": 2
   },
   "file_extension": ".py",
   "mimetype": "text/x-python",
   "name": "python",
   "nbconvert_exporter": "python",
   "pygments_lexer": "ipython2",
   "version": "2.7.6"
  },
  "pycharm": {
   "stem_cell": {
    "cell_type": "raw",
    "source": [],
    "metadata": {
     "collapsed": false
    }
   }
  }
 },
 "nbformat": 4,
 "nbformat_minor": 0
}